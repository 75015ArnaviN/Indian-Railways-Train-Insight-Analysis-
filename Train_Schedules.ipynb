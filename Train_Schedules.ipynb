{
 "cells": [
  {
   "cell_type": "code",
   "execution_count": 1,
   "id": "60c0165d",
   "metadata": {},
   "outputs": [],
   "source": [
    "import os\n",
    "import sys\n",
    "\n",
    "os.environ[\"SPARK_HOME\"] = \"/home/talentum/spark\"\n",
    "os.environ[\"PYLIB\"] = os.environ[\"SPARK_HOME\"] + \"/python/lib\"\n",
    "# In below two lines, use /usr/bin/python2.7 if you want to use Python 2\n",
    "os.environ[\"PYSPARK_PYTHON\"] = \"/usr/bin/python3.6\" \n",
    "os.environ[\"PYSPARK_DRIVER_PYTHON\"] = \"/usr/bin/python3\"\n",
    "sys.path.insert(0, os.environ[\"PYLIB\"] +\"/py4j-0.10.7-src.zip\")\n",
    "sys.path.insert(0, os.environ[\"PYLIB\"] +\"/pyspark.zip\")\n",
    "\n",
    "# NOTE: Whichever package you want mention here.\n",
    "# os.environ['PYSPARK_SUBMIT_ARGS'] = '--packages com.databricks:spark-xml_2.11:0.6.0 pyspark-shell' \n",
    "# os.environ['PYSPARK_SUBMIT_ARGS'] = '--packages org.apache.spark:spark-avro_2.11:2.4.0 pyspark-shell'\n",
    "os.environ['PYSPARK_SUBMIT_ARGS'] = '--packages com.databricks:spark-xml_2.11:0.6.0,org.apache.spark:spark-avro_2.11:2.4.3 pyspark-shell'\n",
    "# os.environ['PYSPARK_SUBMIT_ARGS'] = '--packages com.databricks:spark-xml_2.11:0.6.0,org.apache.spark:spark-avro_2.11:2.4.0 pyspark-shell'"
   ]
  },
  {
   "cell_type": "code",
   "execution_count": 2,
   "id": "e574c8ee",
   "metadata": {},
   "outputs": [],
   "source": [
    "#Entrypoint 2.x\n",
    "from pyspark.sql import SparkSession\n",
    "spark = SparkSession.builder.appName(\"Project\").enableHiveSupport().getOrCreate()\n",
    "\n",
    "# On yarn:\n",
    "# spark = SparkSession.builder.appName(\"Spark SQL basic example\").enableHiveSupport().master(\"yarn\").getOrCreate()\n",
    "# specify .master(\"yarn\")\n",
    "\n",
    "sc = spark.sparkContext"
   ]
  },
  {
   "cell_type": "code",
   "execution_count": 3,
   "id": "b6920daa",
   "metadata": {},
   "outputs": [
    {
     "name": "stdout",
     "output_type": "stream",
     "text": [
      "Requirement already satisfied: pyspark in c:\\users\\darshan chavan\\anaconda3\\lib\\site-packages (3.5.1)\n",
      "Requirement already satisfied: py4j==0.10.9.7 in c:\\users\\darshan chavan\\anaconda3\\lib\\site-packages (from pyspark) (0.10.9.7)\n"
     ]
    }
   ],
   "source": [
    "# !pip install pyspark"
   ]
  },
  {
   "cell_type": "code",
   "execution_count": 58,
   "id": "f553eb7d",
   "metadata": {},
   "outputs": [
    {
     "data": {
      "text/html": [
       "\n",
       "            <div>\n",
       "                <p><b>SparkSession - in-memory</b></p>\n",
       "                \n",
       "        <div>\n",
       "            <p><b>SparkContext</b></p>\n",
       "\n",
       "            <p><a href=\"http://Arnavi:4041\">Spark UI</a></p>\n",
       "\n",
       "            <dl>\n",
       "              <dt>Version</dt>\n",
       "                <dd><code>v3.5.1</code></dd>\n",
       "              <dt>Master</dt>\n",
       "                <dd><code>local[*]</code></dd>\n",
       "              <dt>AppName</dt>\n",
       "                <dd><code>Project</code></dd>\n",
       "            </dl>\n",
       "        </div>\n",
       "        \n",
       "            </div>\n",
       "        "
      ],
      "text/plain": [
       "<pyspark.sql.session.SparkSession at 0x20b0be63b50>"
      ]
     },
     "execution_count": 58,
     "metadata": {},
     "output_type": "execute_result"
    }
   ],
   "source": [
    "# # Ext. code \n",
    "# import pyspark\n",
    "# from pyspark.sql import SparkSession\n",
    "# ss = SparkSession.builder.appName('Project').getOrCreate()\n",
    "# ss"
   ]
  },
  {
   "cell_type": "code",
   "execution_count": 11,
   "id": "e3e69195",
   "metadata": {},
   "outputs": [],
   "source": [
    "from pyspark.sql.functions import col, sum, round ,split"
   ]
  },
  {
   "cell_type": "code",
   "execution_count": 13,
   "id": "d3dee891",
   "metadata": {},
   "outputs": [],
   "source": [
    "df = spark.read.csv(\"schedules.csv\",header=True,inferSchema=True)"
   ]
  },
  {
   "cell_type": "code",
   "execution_count": 14,
   "id": "b5cfa83f",
   "metadata": {},
   "outputs": [
    {
     "name": "stdout",
     "output_type": "stream",
     "text": [
      "+-----------+----------------+-----------+---------+--------------+--------------+--------------+--------------+--------------+--------------+--------------+--------------------+--------------------+\n",
      "|trainNumber|       trainName|stationFrom|stationTo|trainRunsOnMon|trainRunsOnTue|trainRunsOnWed|trainRunsOnThu|trainRunsOnFri|trainRunsOnSat|trainRunsOnSun|           timeStamp|         stationList|\n",
      "+-----------+----------------+-----------+---------+--------------+--------------+--------------+--------------+--------------+--------------+--------------+--------------------+--------------------+\n",
      "|        961|VALLEY QUEEN SPL|         MJ|     MJMG|             Y|             Y|             N|             Y|             Y|             N|             N|2023-10-15 13:04:...|[{'stationCode': ...|\n",
      "|       1027|  DR GKP SPECIAL|         DR|      GKP|             N|             Y|             N|             Y|             N|             Y|             Y|2023-10-15 13:04:...|[{'stationCode': ...|\n",
      "|       1065| DADAR DHULE SPL|         DR|      DHI|             Y|             N|             N|             N|             Y|             N|             Y|2023-10-15 13:05:...|[{'stationCode': ...|\n",
      "|       1066| DHULE DADAR SPL|        DHI|       DR|             Y|             Y|             N|             N|             N|             Y|             N|2023-10-15 13:05:...|[{'stationCode': ...|\n",
      "|       1127|     LTT BPQ SPL|        LTT|      BPQ|             N|             Y|             N|             N|             N|             N|             N|2023-10-15 13:05:...|[{'stationCode': ...|\n",
      "+-----------+----------------+-----------+---------+--------------+--------------+--------------+--------------+--------------+--------------+--------------+--------------------+--------------------+\n",
      "only showing top 5 rows\n",
      "\n"
     ]
    }
   ],
   "source": [
    "df.show(5)"
   ]
  },
  {
   "cell_type": "code",
   "execution_count": 15,
   "id": "da705d54",
   "metadata": {},
   "outputs": [
    {
     "data": {
      "text/plain": [
       "3292"
      ]
     },
     "execution_count": 15,
     "metadata": {},
     "output_type": "execute_result"
    }
   ],
   "source": [
    "df.count()"
   ]
  },
  {
   "cell_type": "code",
   "execution_count": 16,
   "id": "e6b804b4",
   "metadata": {},
   "outputs": [
    {
     "data": {
      "text/plain": [
       "['trainNumber',\n",
       " 'trainName',\n",
       " 'stationFrom',\n",
       " 'stationTo',\n",
       " 'trainRunsOnMon',\n",
       " 'trainRunsOnTue',\n",
       " 'trainRunsOnWed',\n",
       " 'trainRunsOnThu',\n",
       " 'trainRunsOnFri',\n",
       " 'trainRunsOnSat',\n",
       " 'trainRunsOnSun',\n",
       " 'timeStamp',\n",
       " 'stationList']"
      ]
     },
     "execution_count": 16,
     "metadata": {},
     "output_type": "execute_result"
    }
   ],
   "source": [
    "df.columns"
   ]
  },
  {
   "cell_type": "code",
   "execution_count": 17,
   "id": "4e3e4034",
   "metadata": {},
   "outputs": [],
   "source": [
    "df=df.drop(\"stationList\")"
   ]
  },
  {
   "cell_type": "code",
   "execution_count": 18,
   "id": "6f9f2f0f",
   "metadata": {},
   "outputs": [
    {
     "data": {
      "text/plain": [
       "['trainNumber',\n",
       " 'trainName',\n",
       " 'stationFrom',\n",
       " 'stationTo',\n",
       " 'trainRunsOnMon',\n",
       " 'trainRunsOnTue',\n",
       " 'trainRunsOnWed',\n",
       " 'trainRunsOnThu',\n",
       " 'trainRunsOnFri',\n",
       " 'trainRunsOnSat',\n",
       " 'trainRunsOnSun',\n",
       " 'timeStamp']"
      ]
     },
     "execution_count": 18,
     "metadata": {},
     "output_type": "execute_result"
    }
   ],
   "source": [
    "df.columns"
   ]
  },
  {
   "cell_type": "code",
   "execution_count": 19,
   "id": "9b1ba937",
   "metadata": {},
   "outputs": [
    {
     "name": "stdout",
     "output_type": "stream",
     "text": [
      "+-----------+----------------+-----------+---------+--------------+--------------+--------------+--------------+--------------+--------------+--------------+--------------------+\n",
      "|trainNumber|       trainName|stationFrom|stationTo|trainRunsOnMon|trainRunsOnTue|trainRunsOnWed|trainRunsOnThu|trainRunsOnFri|trainRunsOnSat|trainRunsOnSun|           timeStamp|\n",
      "+-----------+----------------+-----------+---------+--------------+--------------+--------------+--------------+--------------+--------------+--------------+--------------------+\n",
      "|        961|VALLEY QUEEN SPL|         MJ|     MJMG|             Y|             Y|             N|             Y|             Y|             N|             N|2023-10-15 13:04:...|\n",
      "|       1027|  DR GKP SPECIAL|         DR|      GKP|             N|             Y|             N|             Y|             N|             Y|             Y|2023-10-15 13:04:...|\n",
      "|       1065| DADAR DHULE SPL|         DR|      DHI|             Y|             N|             N|             N|             Y|             N|             Y|2023-10-15 13:05:...|\n",
      "|       1066| DHULE DADAR SPL|        DHI|       DR|             Y|             Y|             N|             N|             N|             Y|             N|2023-10-15 13:05:...|\n",
      "+-----------+----------------+-----------+---------+--------------+--------------+--------------+--------------+--------------+--------------+--------------+--------------------+\n",
      "only showing top 4 rows\n",
      "\n"
     ]
    }
   ],
   "source": [
    "df.show(4)"
   ]
  },
  {
   "cell_type": "code",
   "execution_count": 20,
   "id": "1aa035bf",
   "metadata": {},
   "outputs": [],
   "source": [
    "new_column = {\n",
    "    \"trainRunsOnMon\": \"Monday\",\n",
    "    \"trainRunsOnTue\": \"Tuesday\",\n",
    "    \"trainRunsOnWed\": \"Wednesday\",\n",
    "    \"trainRunsOnThu\": \"Thursday\",\n",
    "    \"trainRunsOnFri\": \"Friday\",\n",
    "    \"trainRunsOnSat\": \"Saturday\",\n",
    "    \"trainRunsOnSun\": \"Sunday\"\n",
    "}\n",
    "\n",
    "for old_name, new_name in new_column.items():\n",
    "    df = df.withColumnRenamed(old_name, new_name)"
   ]
  },
  {
   "cell_type": "code",
   "execution_count": 21,
   "id": "cbd82b0b",
   "metadata": {},
   "outputs": [
    {
     "name": "stdout",
     "output_type": "stream",
     "text": [
      "+-----------+----------------+-----------+---------+------+-------+---------+--------+------+--------+------+--------------------+\n",
      "|trainNumber|       trainName|stationFrom|stationTo|Monday|Tuesday|Wednesday|Thursday|Friday|Saturday|Sunday|           timeStamp|\n",
      "+-----------+----------------+-----------+---------+------+-------+---------+--------+------+--------+------+--------------------+\n",
      "|        961|VALLEY QUEEN SPL|         MJ|     MJMG|     Y|      Y|        N|       Y|     Y|       N|     N|2023-10-15 13:04:...|\n",
      "|       1027|  DR GKP SPECIAL|         DR|      GKP|     N|      Y|        N|       Y|     N|       Y|     Y|2023-10-15 13:04:...|\n",
      "|       1065| DADAR DHULE SPL|         DR|      DHI|     Y|      N|        N|       N|     Y|       N|     Y|2023-10-15 13:05:...|\n",
      "|       1066| DHULE DADAR SPL|        DHI|       DR|     Y|      Y|        N|       N|     N|       Y|     N|2023-10-15 13:05:...|\n",
      "+-----------+----------------+-----------+---------+------+-------+---------+--------+------+--------+------+--------------------+\n",
      "only showing top 4 rows\n",
      "\n"
     ]
    }
   ],
   "source": [
    "df.show(4)"
   ]
  },
  {
   "cell_type": "code",
   "execution_count": 22,
   "id": "f2814068",
   "metadata": {},
   "outputs": [],
   "source": [
    "df_split = df.withColumn(\"date\", split(col(\"timestamp\"), \" \")[0])\n",
    "                .withColumn(\"time\", split(col(\"timestamp\"), \" \")[1])"
   ]
  },
  {
   "cell_type": "code",
   "execution_count": 23,
   "id": "255e6603",
   "metadata": {},
   "outputs": [
    {
     "name": "stdout",
     "output_type": "stream",
     "text": [
      "+----------+------------+\n",
      "|      date|        time|\n",
      "+----------+------------+\n",
      "|2023-10-15|13:04:05.392|\n",
      "|2023-10-15|13:04:36.625|\n",
      "|2023-10-15|13:05:16.833|\n",
      "|2023-10-15|13:05:17.545|\n",
      "+----------+------------+\n",
      "only showing top 4 rows\n",
      "\n"
     ]
    }
   ],
   "source": [
    "df_split.select(\"date\",\"time\").show(4)"
   ]
  },
  {
   "cell_type": "code",
   "execution_count": 24,
   "id": "ceac4468",
   "metadata": {},
   "outputs": [
    {
     "data": {
      "text/plain": [
       "['trainNumber',\n",
       " 'trainName',\n",
       " 'stationFrom',\n",
       " 'stationTo',\n",
       " 'Monday',\n",
       " 'Tuesday',\n",
       " 'Wednesday',\n",
       " 'Thursday',\n",
       " 'Friday',\n",
       " 'Saturday',\n",
       " 'Sunday',\n",
       " 'timeStamp',\n",
       " 'date',\n",
       " 'time']"
      ]
     },
     "execution_count": 24,
     "metadata": {},
     "output_type": "execute_result"
    }
   ],
   "source": [
    "df_split.columns"
   ]
  },
  {
   "cell_type": "code",
   "execution_count": 35,
   "id": "8c8e8baa",
   "metadata": {},
   "outputs": [],
   "source": [
    "df_split = df_split.drop(\"timeStamp\")"
   ]
  },
  {
   "cell_type": "code",
   "execution_count": 36,
   "id": "971353d5",
   "metadata": {},
   "outputs": [],
   "source": [
    "col_name = df_split.columns"
   ]
  },
  {
   "cell_type": "code",
   "execution_count": 37,
   "id": "c0da5e8d",
   "metadata": {},
   "outputs": [],
   "source": [
    "df_capital = df_split.select([col(col_name).alias(col_name.capitalize()) for col_name in df_split.columns])"
   ]
  },
  {
   "cell_type": "code",
   "execution_count": 38,
   "id": "9c0ee28a",
   "metadata": {},
   "outputs": [
    {
     "name": "stdout",
     "output_type": "stream",
     "text": [
      "+-----------+----------------+-----------+---------+------+-------+---------+--------+------+--------+------+----------+------------+\n",
      "|Trainnumber|       Trainname|Stationfrom|Stationto|Monday|Tuesday|Wednesday|Thursday|Friday|Saturday|Sunday|      Date|        Time|\n",
      "+-----------+----------------+-----------+---------+------+-------+---------+--------+------+--------+------+----------+------------+\n",
      "|        961|VALLEY QUEEN SPL|         MJ|     MJMG|     Y|      Y|        N|       Y|     Y|       N|     N|2023-10-15|13:04:05.392|\n",
      "|       1027|  DR GKP SPECIAL|         DR|      GKP|     N|      Y|        N|       Y|     N|       Y|     Y|2023-10-15|13:04:36.625|\n",
      "|       1065| DADAR DHULE SPL|         DR|      DHI|     Y|      N|        N|       N|     Y|       N|     Y|2023-10-15|13:05:16.833|\n",
      "|       1066| DHULE DADAR SPL|        DHI|       DR|     Y|      Y|        N|       N|     N|       Y|     N|2023-10-15|13:05:17.545|\n",
      "|       1127|     LTT BPQ SPL|        LTT|      BPQ|     N|      Y|        N|       N|     N|       N|     N|2023-10-15|13:05:44.865|\n",
      "+-----------+----------------+-----------+---------+------+-------+---------+--------+------+--------+------+----------+------------+\n",
      "only showing top 5 rows\n",
      "\n"
     ]
    }
   ],
   "source": [
    "df_capital.show(5)"
   ]
  },
  {
   "cell_type": "code",
   "execution_count": 39,
   "id": "68a7f19e",
   "metadata": {},
   "outputs": [
    {
     "name": "stdout",
     "output_type": "stream",
     "text": [
      "root\n",
      " |-- Trainnumber: integer (nullable = true)\n",
      " |-- Trainname: string (nullable = true)\n",
      " |-- Stationfrom: string (nullable = true)\n",
      " |-- Stationto: string (nullable = true)\n",
      " |-- Monday: string (nullable = true)\n",
      " |-- Tuesday: string (nullable = true)\n",
      " |-- Wednesday: string (nullable = true)\n",
      " |-- Thursday: string (nullable = true)\n",
      " |-- Friday: string (nullable = true)\n",
      " |-- Saturday: string (nullable = true)\n",
      " |-- Sunday: string (nullable = true)\n",
      " |-- Date: string (nullable = true)\n",
      " |-- Time: string (nullable = true)\n",
      "\n"
     ]
    }
   ],
   "source": [
    "df_capital.printSchema()"
   ]
  },
  {
   "cell_type": "code",
   "execution_count": 40,
   "id": "e06cd4f6",
   "metadata": {},
   "outputs": [],
   "source": [
    "import pandas as pd"
   ]
  },
  {
   "cell_type": "code",
   "execution_count": 41,
   "id": "350b0356",
   "metadata": {},
   "outputs": [],
   "source": [
    "pandas_df = df_capital.toPandas()\n",
    "# Conversion of PySpark DataFrame to Pandas DataFrame"
   ]
  },
  {
   "cell_type": "code",
   "execution_count": 42,
   "id": "9ba99dcf",
   "metadata": {},
   "outputs": [],
   "source": [
    "output_path = \"Schedules1.csv\""
   ]
  },
  {
   "cell_type": "code",
   "execution_count": 45,
   "id": "f376c8ae",
   "metadata": {},
   "outputs": [],
   "source": [
    "# Write Pandas DataFrame to CSV file with header\n",
    "pandas_df.to_csv(output_path, header=True, index=False)"
   ]
  },
  {
   "cell_type": "code",
   "execution_count": 46,
   "id": "f6c3dd4a",
   "metadata": {},
   "outputs": [
    {
     "name": "stdout",
     "output_type": "stream",
     "text": [
      "root\n",
      " |-- Trainnumber: integer (nullable = true)\n",
      " |-- Trainname: string (nullable = true)\n",
      " |-- Stationfrom: string (nullable = true)\n",
      " |-- Stationto: string (nullable = true)\n",
      " |-- Monday: string (nullable = true)\n",
      " |-- Tuesday: string (nullable = true)\n",
      " |-- Wednesday: string (nullable = true)\n",
      " |-- Thursday: string (nullable = true)\n",
      " |-- Friday: string (nullable = true)\n",
      " |-- Saturday: string (nullable = true)\n",
      " |-- Sunday: string (nullable = true)\n",
      " |-- Date: string (nullable = true)\n",
      " |-- Time: string (nullable = true)\n",
      "\n"
     ]
    }
   ],
   "source": [
    "df_capital.printSchema()"
   ]
  },
  {
   "cell_type": "code",
   "execution_count": 57,
   "id": "df4ad66c",
   "metadata": {},
   "outputs": [],
   "source": [
    "mysql_url = \"jdbc:mysql://127.0.0.1:3306/project?useSSL=false&allowPublicKeyRetrieval=true\"\n",
    "conn_prop={\n",
    "    \n",
    "    \"user\":\"bigdata\",\n",
    "    \"password\":\"Bigdata@123\",\n",
    "    \"driver\":\"com.mysql.jdbc.Driver\"\n",
    "}\n",
    "\n",
    "table_name=\"train_schedule\"\n",
    "\n",
    "df_capital.write.jdbc(url=mysql_url,table=table_name,mode=\"overwrite\",properties=conn_prop)"
   ]
  },
  {
   "cell_type": "code",
   "execution_count": null,
   "id": "f2565d7d",
   "metadata": {},
   "outputs": [],
   "source": [
    "df_capital.write.jdbc(url=sql_url,table=table_name,mode=\"Overwrite\",properties=conn_prop)"
   ]
  },
  {
   "cell_type": "code",
   "execution_count": null,
   "id": "17877a1b",
   "metadata": {},
   "outputs": [],
   "source": []
  }
 ],
 "metadata": {
  "kernelspec": {
   "display_name": "Python 3 (ipykernel)",
   "language": "python",
   "name": "python3"
  },
  "language_info": {
   "codemirror_mode": {
    "name": "ipython",
    "version": 3
   },
   "file_extension": ".py",
   "mimetype": "text/x-python",
   "name": "python",
   "nbconvert_exporter": "python",
   "pygments_lexer": "ipython3",
   "version": "3.11.4"
  }
 },
 "nbformat": 4,
 "nbformat_minor": 5
}
